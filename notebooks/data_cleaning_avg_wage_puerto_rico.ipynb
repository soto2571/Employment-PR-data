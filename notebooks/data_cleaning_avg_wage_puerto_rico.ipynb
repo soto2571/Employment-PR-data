{
 "cells": [
  {
   "cell_type": "markdown",
   "id": "383624fd-bd3d-4ad9-b960-e862c4091373",
   "metadata": {},
   "source": [
    "# Analisis de Salario por Region en Puerto Rico\n",
    "\n",
    "Este notebook documenta el proceso de carga, limpieza y preparación de los datos utilizados para construir el dashboard de análisis salarial en Tableau."
   ]
  },
  {
   "cell_type": "code",
   "execution_count": 3,
   "id": "a49868f3-da65-49e4-8190-c6b688476211",
   "metadata": {},
   "outputs": [],
   "source": [
    "import pandas as pd\n",
    "\n",
    "# Puedes utilizar otras librerias adicionales si deseas analizar mas a fondo la data\n",
    "# import numpy as np\n",
    "# import seaborn as sns\n",
    "# imort matplotlib.pyplot as plt"
   ]
  },
  {
   "cell_type": "markdown",
   "id": "4fa500f0-1fa1-48b2-99ac-04076d444150",
   "metadata": {},
   "source": [
    "## Carga de Datos\n",
    "Cargamos los datos desde su forma original en la carpeta `data/raw/`."
   ]
  },
  {
   "cell_type": "code",
   "execution_count": 5,
   "id": "a35f6c95-ad60-47c4-958f-fab5ec4dc38c",
   "metadata": {
    "scrolled": true
   },
   "outputs": [
    {
     "data": {
      "text/html": [
       "<div>\n",
       "<style scoped>\n",
       "    .dataframe tbody tr th:only-of-type {\n",
       "        vertical-align: middle;\n",
       "    }\n",
       "\n",
       "    .dataframe tbody tr th {\n",
       "        vertical-align: top;\n",
       "    }\n",
       "\n",
       "    .dataframe thead th {\n",
       "        text-align: right;\n",
       "    }\n",
       "</style>\n",
       "<table border=\"1\" class=\"dataframe\">\n",
       "  <thead>\n",
       "    <tr style=\"text-align: right;\">\n",
       "      <th></th>\n",
       "      <th>ID PUMA</th>\n",
       "      <th>PUMA</th>\n",
       "      <th>ID Year</th>\n",
       "      <th>Year</th>\n",
       "      <th>ID Workforce Status</th>\n",
       "      <th>Workforce Status</th>\n",
       "      <th>Average Wage</th>\n",
       "      <th>Slug PUMA</th>\n",
       "      <th>Temp</th>\n",
       "      <th>Growth</th>\n",
       "    </tr>\n",
       "  </thead>\n",
       "  <tbody>\n",
       "    <tr>\n",
       "      <th>0</th>\n",
       "      <td>79500US7200100</td>\n",
       "      <td>Aguadilla, Aguada &amp; Moca PUMA, PR</td>\n",
       "      <td>2022</td>\n",
       "      <td>2022</td>\n",
       "      <td>True</td>\n",
       "      <td>True</td>\n",
       "      <td>25236.070968</td>\n",
       "      <td>aguadilla-aguada-moca-puma-pr</td>\n",
       "      <td>23058.972623</td>\n",
       "      <td>9.441437</td>\n",
       "    </tr>\n",
       "    <tr>\n",
       "      <th>1</th>\n",
       "      <td>79500US7200200</td>\n",
       "      <td>Mayagüez, Añasco &amp; Hormigueros PUMA, PR</td>\n",
       "      <td>2022</td>\n",
       "      <td>2022</td>\n",
       "      <td>True</td>\n",
       "      <td>True</td>\n",
       "      <td>25500.492767</td>\n",
       "      <td>mayaguez-anasco-hormigueros-puma-pr</td>\n",
       "      <td>23667.970702</td>\n",
       "      <td>7.742624</td>\n",
       "    </tr>\n",
       "    <tr>\n",
       "      <th>2</th>\n",
       "      <td>79500US7200300</td>\n",
       "      <td>Cabo Rojo, San Germán &amp; Lajas PUMA, PR</td>\n",
       "      <td>2022</td>\n",
       "      <td>2022</td>\n",
       "      <td>True</td>\n",
       "      <td>True</td>\n",
       "      <td>25193.700073</td>\n",
       "      <td>cabo-rojo-san-german-lajas-puma-pr</td>\n",
       "      <td>23034.585832</td>\n",
       "      <td>9.373358</td>\n",
       "    </tr>\n",
       "    <tr>\n",
       "      <th>3</th>\n",
       "      <td>79500US7200400</td>\n",
       "      <td>Yauco, Sabana Grande &amp; Peñuelas PUMA, PR</td>\n",
       "      <td>2022</td>\n",
       "      <td>2022</td>\n",
       "      <td>True</td>\n",
       "      <td>True</td>\n",
       "      <td>22427.277409</td>\n",
       "      <td>yauco-sabana-grande-penuelas-puma-pr</td>\n",
       "      <td>20761.045758</td>\n",
       "      <td>8.025760</td>\n",
       "    </tr>\n",
       "    <tr>\n",
       "      <th>4</th>\n",
       "      <td>79500US7200500</td>\n",
       "      <td>Ponce PUMA, PR</td>\n",
       "      <td>2022</td>\n",
       "      <td>2022</td>\n",
       "      <td>True</td>\n",
       "      <td>True</td>\n",
       "      <td>28662.438580</td>\n",
       "      <td>ponce-puma-pr</td>\n",
       "      <td>26206.181086</td>\n",
       "      <td>9.372817</td>\n",
       "    </tr>\n",
       "  </tbody>\n",
       "</table>\n",
       "</div>"
      ],
      "text/plain": [
       "          ID PUMA                                      PUMA  ID Year  Year  \\\n",
       "0  79500US7200100         Aguadilla, Aguada & Moca PUMA, PR     2022  2022   \n",
       "1  79500US7200200   Mayagüez, Añasco & Hormigueros PUMA, PR     2022  2022   \n",
       "2  79500US7200300    Cabo Rojo, San Germán & Lajas PUMA, PR     2022  2022   \n",
       "3  79500US7200400  Yauco, Sabana Grande & Peñuelas PUMA, PR     2022  2022   \n",
       "4  79500US7200500                            Ponce PUMA, PR     2022  2022   \n",
       "\n",
       "   ID Workforce Status  Workforce Status  Average Wage  \\\n",
       "0                 True              True  25236.070968   \n",
       "1                 True              True  25500.492767   \n",
       "2                 True              True  25193.700073   \n",
       "3                 True              True  22427.277409   \n",
       "4                 True              True  28662.438580   \n",
       "\n",
       "                              Slug PUMA          Temp    Growth  \n",
       "0         aguadilla-aguada-moca-puma-pr  23058.972623  9.441437  \n",
       "1   mayaguez-anasco-hormigueros-puma-pr  23667.970702  7.742624  \n",
       "2    cabo-rojo-san-german-lajas-puma-pr  23034.585832  9.373358  \n",
       "3  yauco-sabana-grande-penuelas-puma-pr  20761.045758  8.025760  \n",
       "4                         ponce-puma-pr  26206.181086  9.372817  "
      ]
     },
     "execution_count": 5,
     "metadata": {},
     "output_type": "execute_result"
    }
   ],
   "source": [
    "# Cargamos el archivo a un dataframe\n",
    "df = pd.read_csv('data/raw/Workforce and Wage by Location.csv')\n",
    "\n",
    "\n",
    "# Para ver las primeras filas de data que analizaremos                \n",
    "df.head()        "
   ]
  },
  {
   "cell_type": "markdown",
   "id": "11399109-ddd8-4468-accd-4aff57db91fc",
   "metadata": {},
   "source": [
    "## Limpieza de Datos\n",
    "\n",
    "- Se eliminaron las columnas irrelevantes que no aportan valor al análisis.\n",
    "- Se renombraron las columnas clave para mejorar la legibilidad y comprensión.\n",
    "- Se ajustaron los tipos de datos, aplicando formato `float` a las columnas numéricas para una mejor visualización.\n",
    "- Se sustituyeron los valores nulos en la columna `Growth` por `'N/A'` para indicar claramente la ausencia de datos disponibles."
   ]
  },
  {
   "cell_type": "code",
   "execution_count": 6,
   "id": "d99fcefb-3a41-4423-8a73-cfe08b23023e",
   "metadata": {},
   "outputs": [
    {
     "name": "stdout",
     "output_type": "stream",
     "text": [
      "The history saving thread hit an unexpected error (OperationalError('attempt to write a readonly database')).History will not be written to the database.\n"
     ]
    }
   ],
   "source": [
    "# Se eliminan columnas inecesarias\n",
    "clean_df = df.drop(['Temp', 'ID PUMA', 'Year', 'Workforce Status', 'ID Workforce Status', 'Slug PUMA'], \n",
    "                   axis=1)\n",
    "\n",
    "#Se ajustan nombres\n",
    "clean_df = clean_df.rename(columns={'ID Year': 'Year'})\n",
    "\n",
    "# Se le cambia el tipo de data a unos mas legible y optimo para visualizaciòn\n",
    "clean_df['Average Wage'] = clean_df['Average Wage'].round(2)\n",
    "clean_df['Growth'] = clean_df['Growth'].round(2)\n",
    "\n",
    "# Se ajustan los valores null a N/A para indicar la ausencia de datos\n",
    "clean_df['Growth'] = clean_df['Growth'].fillna('N/A')"
   ]
  },
  {
   "cell_type": "markdown",
   "id": "367db0b4-dfc0-4afa-8fd3-d5726182ea0f",
   "metadata": {},
   "source": [
    "## Exportacion de Datos\n",
    "Luego de haber limpiado los datos se exportan a `data/processed/` donde estara el nuevo archivo csv que sera utilizado para analisis y visualizaciones."
   ]
  },
  {
   "cell_type": "code",
   "execution_count": 7,
   "id": "7f2919e5-debf-4bea-9f61-cd6afcf42162",
   "metadata": {},
   "outputs": [],
   "source": [
    "# Exporta la data limpia a un acrchivo .csv listo para analisis\n",
    "clean_df.to_csv('data/processed/cleaned_avg_wage_data.csv', index=False)"
   ]
  },
  {
   "cell_type": "markdown",
   "id": "26e5c6ba-435c-4c21-82df-0ebc56f4bd78",
   "metadata": {},
   "source": [
    "## Proceso de Limpieza Completado\n",
    "Proceso de limpieza completado y datos listos para visualización en Tableau."
   ]
  }
 ],
 "metadata": {
  "kernelspec": {
   "display_name": "Python 3 (ipykernel)",
   "language": "python",
   "name": "python3"
  },
  "language_info": {
   "codemirror_mode": {
    "name": "ipython",
    "version": 3
   },
   "file_extension": ".py",
   "mimetype": "text/x-python",
   "name": "python",
   "nbconvert_exporter": "python",
   "pygments_lexer": "ipython3",
   "version": "3.13.2"
  }
 },
 "nbformat": 4,
 "nbformat_minor": 5
}
